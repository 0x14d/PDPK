{
 "cells": [
  {
   "attachments": {},
   "cell_type": "markdown",
   "metadata": {},
   "source": [
    "# Link Prediction Bias Analysis"
   ]
  },
  {
   "attachments": {},
   "cell_type": "markdown",
   "metadata": {},
   "source": [
    "Set working directory"
   ]
  },
  {
   "cell_type": "code",
   "execution_count": null,
   "metadata": {},
   "outputs": [],
   "source": [
    "import os\n",
    "\n",
    "os.chdir('..')\n",
    "print(os.getcwd())"
   ]
  },
  {
   "attachments": {},
   "cell_type": "markdown",
   "metadata": {},
   "source": [
    "The code for the bias analysis is located in `utils/link_prediction_bias_analysis.py`. \n",
    "The function `link_prediction_bias_analysis` takes over the preparation and needs to be simply provided with a knowledge graph."
   ]
  },
  {
   "cell_type": "code",
   "execution_count": null,
   "metadata": {},
   "outputs": [],
   "source": [
    "from utils.link_prediction_bias_analysis import link_prediction_bias_analysis"
   ]
  },
  {
   "attachments": {},
   "cell_type": "markdown",
   "metadata": {},
   "source": [
    "Before the bias analysis can be started the knowledge graph needs to be generated."
   ]
  },
  {
   "cell_type": "code",
   "execution_count": 3,
   "metadata": {},
   "outputs": [],
   "source": [
    "from data_provider.synthetic_data_generation.synthetic_data_generator import SyntheticDataGenerator\n",
    "\n",
    "sdg = SyntheticDataGenerator('configs/default_config_sdg.json')\n",
    "knowledge_graph = sdg.knowledge_graph"
   ]
  },
  {
   "attachments": {},
   "cell_type": "markdown",
   "metadata": {},
   "source": [
    "The following properties can be customized for the bias analysis:"
   ]
  },
  {
   "cell_type": "code",
   "execution_count": 4,
   "metadata": {},
   "outputs": [],
   "source": [
    "# Should the data also include literals?\n",
    "use_literals: bool = False\n",
    "\n",
    "# What proportions of the triples should be in the test split?\n",
    "test_split: float = 0.2\n",
    "\n",
    "# What should be the seed / randomstate for the train-test-split?\n",
    "seed = 42\n",
    "\n",
    "# What should be the thresholds for the different bias types?\n",
    "type1_threshold: float = 0.75\n",
    "type2_threshold: float = 0.5\n",
    "type3_threshold: float = 0.5"
   ]
  },
  {
   "attachments": {},
   "cell_type": "markdown",
   "metadata": {},
   "source": [
    "Finally the `link_prediction_bias_analysis` function can be called. It returns a `LinkPredictionBiasAnalysis` object."
   ]
  },
  {
   "cell_type": "code",
   "execution_count": null,
   "metadata": {},
   "outputs": [],
   "source": [
    "# The function also needs to know what representation was used to generate the kg\n",
    "kg_type = sdg.config.knowledge_graph_generator.type\n",
    "\n",
    "analysis = link_prediction_bias_analysis(\n",
    "    graph=knowledge_graph,\n",
    "    kg_type=kg_type,\n",
    "    use_literals=use_literals,\n",
    "    test_split=test_split,\n",
    "    seed=seed,\n",
    "    type1_threshold=type1_threshold,\n",
    "    type2_threshold=type2_threshold,\n",
    "    type3_threshold=type3_threshold\n",
    ")"
   ]
  },
  {
   "attachments": {},
   "cell_type": "markdown",
   "metadata": {},
   "source": [
    "With the `create_dataframe` function the results can be converted to a dataframe."
   ]
  },
  {
   "cell_type": "code",
   "execution_count": null,
   "metadata": {},
   "outputs": [],
   "source": [
    "from utils.link_prediction_bias_analysis import create_dataframe\n",
    "\n",
    "df = create_dataframe({'example kg': analysis})\n",
    "print(df)"
   ]
  }
 ],
 "metadata": {
  "kernelspec": {
   "display_name": "venv",
   "language": "python",
   "name": "python3"
  },
  "language_info": {
   "codemirror_mode": {
    "name": "ipython",
    "version": 3
   },
   "file_extension": ".py",
   "mimetype": "text/x-python",
   "name": "python",
   "nbconvert_exporter": "python",
   "pygments_lexer": "ipython3",
   "version": "3.9.16 (main, Dec  7 2022, 01:11:51) \n[GCC 9.4.0]"
  },
  "orig_nbformat": 4,
  "vscode": {
   "interpreter": {
    "hash": "a4f384b224ebcf29019b44e761476300972f4891042a1491bfcea1bb0c87feb7"
   }
  }
 },
 "nbformat": 4,
 "nbformat_minor": 2
}

{
 "cells": [
  {
   "attachments": {},
   "cell_type": "markdown",
   "metadata": {},
   "source": [
    "# Quickstart: Synthetic Data Generation"
   ]
  },
  {
   "attachments": {},
   "cell_type": "markdown",
   "metadata": {},
   "source": [
    "Set working directory"
   ]
  },
  {
   "cell_type": "code",
   "execution_count": null,
   "metadata": {},
   "outputs": [],
   "source": [
    "import os\n",
    "\n",
    "os.chdir('..')\n",
    "print(os.getcwd())"
   ]
  },
  {
   "attachments": {},
   "cell_type": "markdown",
   "metadata": {},
   "source": [
    "The class `SyntheticDataGenerator` provides functionality to generate synthetic data.\n",
    "It is located in `data_provider/synthetic_data_generation/synthetic_data_generator.py`."
   ]
  },
  {
   "cell_type": "code",
   "execution_count": 2,
   "metadata": {},
   "outputs": [],
   "source": [
    "from data_provider.synthetic_data_generation.synthetic_data_generator import SyntheticDataGenerator"
   ]
  },
  {
   "attachments": {},
   "cell_type": "markdown",
   "metadata": {},
   "source": [
    "To initialize the synthetic data generator a configuration is needed. An example configuration is provided in `configs/default_config_sdg.json` "
   ]
  },
  {
   "cell_type": "code",
   "execution_count": null,
   "metadata": {},
   "outputs": [],
   "source": [
    "sdg = SyntheticDataGenerator('configs/default_config_sdg.json')"
   ]
  },
  {
   "attachments": {},
   "cell_type": "markdown",
   "metadata": {},
   "source": [
    "Upon initialization the synthetic data generator creates the first process data and knowledge graph. They can be accessed via the `dataset` and `knowledge_graph` properties."
   ]
  },
  {
   "cell_type": "code",
   "execution_count": null,
   "metadata": {},
   "outputs": [],
   "source": [
    "dataset = sdg.dataset\n",
    "knowledge_graph = sdg.knowledge_graph"
   ]
  },
  {
   "attachments": {},
   "cell_type": "markdown",
   "metadata": {},
   "source": [
    "\n",
    "To create another prococess data or knowledge graph the `create_new_dataset` and `create_new_knowledge_graph` methods can be used. They return the newly generated process data / knowledge graph and override the old data."
   ]
  },
  {
   "cell_type": "code",
   "execution_count": null,
   "metadata": {},
   "outputs": [],
   "source": [
    "dataset = sdg.create_new_dataset()\n",
    "knowledge_graph = sdg.create_new_knowledge_graph()"
   ]
  }
 ],
 "metadata": {
  "kernelspec": {
   "display_name": "venv",
   "language": "python",
   "name": "python3"
  },
  "language_info": {
   "codemirror_mode": {
    "name": "ipython",
    "version": 3
   },
   "file_extension": ".py",
   "mimetype": "text/x-python",
   "name": "python",
   "nbconvert_exporter": "python",
   "pygments_lexer": "ipython3",
   "version": "3.9.15 (main, Oct 12 2022, 19:14:24) \n[GCC 9.4.0]"
  },
  "orig_nbformat": 4,
  "vscode": {
   "interpreter": {
    "hash": "e6bf4e63134931b1e180726808ada6fbdf4ee45502807befa63dad51e6b7c922"
   }
  }
 },
 "nbformat": 4,
 "nbformat_minor": 2
}
